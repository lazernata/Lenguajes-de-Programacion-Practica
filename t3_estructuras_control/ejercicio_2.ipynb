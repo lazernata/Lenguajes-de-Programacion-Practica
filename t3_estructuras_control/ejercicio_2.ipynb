{
 "cells": [
  {
   "metadata": {},
   "cell_type": "markdown",
   "source": "# Ejercicio 2 – Palíndromos",
   "id": "f3b87a7146d7c9fd"
  },
  {
   "metadata": {},
   "cell_type": "markdown",
   "source": [
    "En este ejercicio, vamos a identificar palíndromos en una lista de palabras. Un palíndromo\n",
    "es una palabra o frase que se lee igual de adelante hacia atrás que de atrás hacia adelante,\n",
    "ignorando espacios y mayúsculas/minúsculas.  Define una lista palabras con las siguientes palabras: [\"Ana\", \"12321\", \"Una\n",
    "manzana\", \"radar\", \"No es palíndromo\"]."
   ],
   "id": "dbfd90d3dbbb6251"
  },
  {
   "metadata": {},
   "cell_type": "markdown",
   "source": [
    "* Convierte todas las palabras a minúsculas y elimina cualquier espacio en blanco\n",
    "alrededor de ellas. \n"
   ],
   "id": "7832589c0d69dc6a"
  },
  {
   "cell_type": "code",
   "execution_count": null,
   "id": "initial_id",
   "metadata": {
    "collapsed": true
   },
   "outputs": [],
   "source": [
    ""
   ]
  },
  {
   "metadata": {},
   "cell_type": "markdown",
   "source": [
    "* Filtra las palabras que son palíndromos, es decir, aquellas que se leen igual de\n",
    "adelante hacia atrás.\n",
    " Usa comprensiones de listas.\n",
    " Puedes usar slicing con índice negativo ([::-1]) para invertir las cadenas"
   ],
   "id": "9a7b9057d998d1f"
  },
  {
   "metadata": {},
   "cell_type": "code",
   "outputs": [],
   "execution_count": null,
   "source": "",
   "id": "27a563b2ced35e3"
  }
 ],
 "metadata": {
  "kernelspec": {
   "display_name": "Python 3",
   "language": "python",
   "name": "python3"
  },
  "language_info": {
   "codemirror_mode": {
    "name": "ipython",
    "version": 2
   },
   "file_extension": ".py",
   "mimetype": "text/x-python",
   "name": "python",
   "nbconvert_exporter": "python",
   "pygments_lexer": "ipython2",
   "version": "2.7.6"
  }
 },
 "nbformat": 4,
 "nbformat_minor": 5
}
