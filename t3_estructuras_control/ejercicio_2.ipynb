{
 "cells": [
  {
   "metadata": {},
   "cell_type": "markdown",
   "source": "# Ejercicio 2 – Palíndromos",
   "id": "f3b87a7146d7c9fd"
  },
  {
   "metadata": {},
   "cell_type": "markdown",
   "source": [
    "### En este ejercicio, vamos a identificar palíndromos en una lista de palabras. Un palíndromo es una palabra o frase que se lee igual de adelante hacia atrás que de atrás hacia adelante, ignorando espacios y mayúsculas/minúsculas.\n",
    "* #### Define una lista palabras con las siguientes palabras: [\"Ana\", \"12321\", \"Una manzana\", \"radar\", \"No es palíndromo\"]."
   ],
   "id": "dbfd90d3dbbb6251"
  },
  {
   "metadata": {
    "ExecuteTime": {
     "end_time": "2025-02-18T10:12:32.637716Z",
     "start_time": "2025-02-18T10:12:32.616024Z"
    }
   },
   "cell_type": "code",
   "source": "palabras = [\"Ana\", \"12321\", \"Una manzana\", \"radar\", \"No es palíndromo\"]",
   "id": "6aa529cd3995e863",
   "outputs": [],
   "execution_count": 11
  },
  {
   "metadata": {},
   "cell_type": "markdown",
   "source": "* #### Convierte todas las palabras a minúsculas y elimina cualquier espacio en blanco alrededor de ellas.\n",
   "id": "7832589c0d69dc6a"
  },
  {
   "cell_type": "code",
   "id": "initial_id",
   "metadata": {
    "collapsed": true,
    "ExecuteTime": {
     "end_time": "2025-02-18T10:20:02.054887Z",
     "start_time": "2025-02-18T10:20:02.042976Z"
    }
   },
   "source": [
    "palabras_normalizadas = [\n",
    "    palabra.lower().replace(\" \", \"\") for palabra in palabras if palabra.replace(\" \", \"\").isalpha()\n",
    "]\n",
    "\n",
    "print(palabras_normalizadas)"
   ],
   "outputs": [
    {
     "name": "stdout",
     "output_type": "stream",
     "text": [
      "['ana', 'unamanzana', 'radar', 'noespalíndromo']\n"
     ]
    }
   ],
   "execution_count": 17
  },
  {
   "metadata": {},
   "cell_type": "markdown",
   "source": [
    "* #### Filtra las palabras que son palíndromos, es decir, aquellas que se leen igual de adelante hacia atrás.\n",
    "> ##### Usa comprensiones de listas.\n",
    "> ##### Puedes usar slicing con índice negativo ([::-1]) para invertir las cadenas"
   ],
   "id": "9a7b9057d998d1f"
  },
  {
   "metadata": {
    "ExecuteTime": {
     "end_time": "2025-02-18T10:20:07.198150Z",
     "start_time": "2025-02-18T10:20:07.188665Z"
    }
   },
   "cell_type": "code",
   "source": [
    "palindromos = [\n",
    "    palabra for palabra in palabras_normalizadas if palabra == palabra[::-1]\n",
    "]\n",
    "\n",
    "print(palindromos)"
   ],
   "id": "27a563b2ced35e3",
   "outputs": [
    {
     "name": "stdout",
     "output_type": "stream",
     "text": [
      "['ana', 'radar']\n"
     ]
    }
   ],
   "execution_count": 18
  }
 ],
 "metadata": {
  "kernelspec": {
   "display_name": "Python 3",
   "language": "python",
   "name": "python3"
  },
  "language_info": {
   "codemirror_mode": {
    "name": "ipython",
    "version": 2
   },
   "file_extension": ".py",
   "mimetype": "text/x-python",
   "name": "python",
   "nbconvert_exporter": "python",
   "pygments_lexer": "ipython2",
   "version": "2.7.6"
  }
 },
 "nbformat": 4,
 "nbformat_minor": 5
}
