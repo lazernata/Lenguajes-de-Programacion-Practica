{
 "cells": [
  {
   "metadata": {},
   "cell_type": "markdown",
   "source": "# Ejercicio 3",
   "id": "89dc743fb0037667"
  },
  {
   "metadata": {},
   "cell_type": "markdown",
   "source": [
    "### En este ejercicio, vamos a contar la frecuencia de las letras en una palabra utilizando un diccionario normal, `defaultdict` y `Counter` de la colección `collections`.\n",
    "#### Define una variable `palabra_ejemplo` con el valor `marsupilami`."
   ],
   "id": "a7382a91cf235d6a"
  },
  {
   "metadata": {
    "ExecuteTime": {
     "end_time": "2025-02-18T10:23:50.674720Z",
     "start_time": "2025-02-18T10:23:50.666988Z"
    }
   },
   "cell_type": "code",
   "source": "palabra_ejemplo = \"marsupilami\"",
   "id": "f2d511e7770e732c",
   "outputs": [],
   "execution_count": 1
  },
  {
   "metadata": {},
   "cell_type": "markdown",
   "source": [
    "#### 1. Usando un Diccionario Normal:\n",
    "* ##### Inicializa un diccionario vacío `contador1`\n",
    "* #####  Recorre cada letra en `palabra_ejemplo`.\n",
    "* #####  Si la letra ya está en el diccionario, incrementa su frecuencia en 1.\n",
    "* #####  Si la letra no está en el diccionario, agrégala con una frecuencia inicial de 1.\n",
    "* #####  Imprime las frecuencias ordenadas alfabéticamente."
   ],
   "id": "f99a758db3ecda9c"
  },
  {
   "cell_type": "code",
   "id": "initial_id",
   "metadata": {
    "collapsed": true,
    "ExecuteTime": {
     "end_time": "2025-02-18T10:28:49.867713Z",
     "start_time": "2025-02-18T10:28:49.859458Z"
    }
   },
   "source": [
    "contador1 = dict(zip(palabra_ejemplo, map(lambda x: palabra_ejemplo.count(x), palabra_ejemplo)))\n",
    "contador1 = dict(sorted(contador1.items()))\n",
    "\n",
    "print(contador1)"
   ],
   "outputs": [
    {
     "name": "stdout",
     "output_type": "stream",
     "text": [
      "{'a': 2, 'i': 2, 'l': 1, 'm': 2, 'p': 1, 'r': 1, 's': 1, 'u': 1}\n"
     ]
    }
   ],
   "execution_count": 5
  },
  {
   "metadata": {},
   "cell_type": "markdown",
   "source": [
    "#### 2. Usando `defaultdict`:\n",
    " * ##### Importa `defaultdict` del módulo `collections`.\n",
    " * ##### Inicializa `contador2` como un `defaultdict` con `int` como valor por defecto (0).\n",
    "* ##### Recorre cada letra en `palabra_ejemplo` y aumenta su frecuencia directamente.\n",
    "* ##### Imprime las frecuencias ordenadas alfabéticamente."
   ],
   "id": "c9e147265904e56f"
  },
  {
   "metadata": {
    "ExecuteTime": {
     "end_time": "2025-02-18T10:39:40.544408Z",
     "start_time": "2025-02-18T10:39:40.531454Z"
    }
   },
   "cell_type": "code",
   "source": [
    "from collections import defaultdict\n",
    "\n",
    "contador2 = defaultdict(int)\n",
    "\n",
    "for letra in palabra_ejemplo:\n",
    "    contador2[letra] += 1\n",
    "\n",
    "for letra, frecuencia in sorted(contador2.items()):\n",
    "    print(f\"Letra '{letra}': {frecuencia}\")\n"
   ],
   "id": "d2557fe7632fda6",
   "outputs": [
    {
     "name": "stdout",
     "output_type": "stream",
     "text": [
      "Letra 'a': 2\n",
      "Letra 'i': 2\n",
      "Letra 'l': 1\n",
      "Letra 'm': 2\n",
      "Letra 'p': 1\n",
      "Letra 'r': 1\n",
      "Letra 's': 1\n",
      "Letra 'u': 1\n"
     ]
    }
   ],
   "execution_count": 9
  },
  {
   "metadata": {},
   "cell_type": "markdown",
   "source": [
    "#### 3. Usando `Counter` de `collections`:\n",
    "* ##### Importa `Counter` del módulo `collections`.\n",
    "* ##### Inicializa `contador_palabras2` directamente con `palabra_ejemplo`.\n",
    "* ##### Imprime las frecuencias ordenadas alfabéticamente"
   ],
   "id": "4c59fc82de07e0f4"
  },
  {
   "metadata": {
    "ExecuteTime": {
     "end_time": "2025-02-18T10:42:11.493338Z",
     "start_time": "2025-02-18T10:42:11.470568Z"
    }
   },
   "cell_type": "code",
   "source": [
    "from collections import Counter\n",
    "\n",
    "contador_palabras_2 = Counter(palabra_ejemplo)\n",
    "\n",
    "for letra, frecuencia in sorted(contador_palabras_2.items()):\n",
    "    print(f\"Letra '{letra}': {frecuencia}\")"
   ],
   "id": "e2b115b8c01d5e49",
   "outputs": [
    {
     "name": "stdout",
     "output_type": "stream",
     "text": [
      "Letra 'a': 2\n",
      "Letra 'i': 2\n",
      "Letra 'l': 1\n",
      "Letra 'm': 2\n",
      "Letra 'p': 1\n",
      "Letra 'r': 1\n",
      "Letra 's': 1\n",
      "Letra 'u': 1\n"
     ]
    }
   ],
   "execution_count": 10
  }
 ],
 "metadata": {
  "kernelspec": {
   "display_name": "Python 3",
   "language": "python",
   "name": "python3"
  },
  "language_info": {
   "codemirror_mode": {
    "name": "ipython",
    "version": 2
   },
   "file_extension": ".py",
   "mimetype": "text/x-python",
   "name": "python",
   "nbconvert_exporter": "python",
   "pygments_lexer": "ipython2",
   "version": "2.7.6"
  }
 },
 "nbformat": 4,
 "nbformat_minor": 5
}
