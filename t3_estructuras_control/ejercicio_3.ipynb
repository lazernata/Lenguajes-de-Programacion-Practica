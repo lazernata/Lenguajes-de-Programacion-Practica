{
 "cells": [
  {
   "metadata": {},
   "cell_type": "markdown",
   "source": "# Ejercicio 3",
   "id": "89dc743fb0037667"
  },
  {
   "metadata": {},
   "cell_type": "markdown",
   "source": [
    "En este ejercicio, vamos a contar la frecuencia de las letras en una palabra utilizando un\n",
    "diccionario normal, defaultdict y Counter de la colección collections.  Define una variable ‘palabra_ejemplo’ con el valor \"marsupilami\"."
   ],
   "id": "a7382a91cf235d6a"
  },
  {
   "metadata": {},
   "cell_type": "markdown",
   "source": [
    "1. Usando un Diccionario Normal:\n",
    "* Inicializa un diccionario vacío ‘contador1’\n",
    "* Recorre cada letra en palabra_ejemplo.\n",
    "* Si la letra no está en el diccionario, agrégala con una frecuencia inicial de 1.\n",
    "* Si la letra ya está en el diccionario, incrementa su frecuencia en 1.\n",
    "* Imprime las frecuencias ordenadas alfabéticamente."
   ],
   "id": "f99a758db3ecda9c"
  },
  {
   "cell_type": "code",
   "execution_count": null,
   "id": "initial_id",
   "metadata": {
    "collapsed": true
   },
   "outputs": [],
   "source": ""
  },
  {
   "metadata": {},
   "cell_type": "markdown",
   "source": [
    "2. Usando defaultdict:\n",
    "* Importa defaultdict del módulo collections.\n",
    "* Inicializa ‘contador2’ como un defaultdict con int como valor por defecto (0).\n",
    "* Recorre cada letra en palabra_ejemplo y aumenta su frecuencia directamente.\n",
    "* Imprime las frecuencias ordenadas alfabéticamente."
   ],
   "id": "c9e147265904e56f"
  },
  {
   "metadata": {},
   "cell_type": "code",
   "outputs": [],
   "execution_count": null,
   "source": "",
   "id": "d2557fe7632fda6"
  },
  {
   "metadata": {},
   "cell_type": "markdown",
   "source": [
    "3. Usando Counter de collections:\n",
    "* Importa Counter del módulo collections.\n",
    "* Inicializa ‘contador_palabras2’ directamente con ‘palabra_ejemplo’.\n",
    "* Imprime las frecuencias ordenadas alfabéticamente"
   ],
   "id": "4c59fc82de07e0f4"
  },
  {
   "metadata": {},
   "cell_type": "code",
   "outputs": [],
   "execution_count": null,
   "source": "",
   "id": "e2b115b8c01d5e49"
  }
 ],
 "metadata": {
  "kernelspec": {
   "display_name": "Python 3",
   "language": "python",
   "name": "python3"
  },
  "language_info": {
   "codemirror_mode": {
    "name": "ipython",
    "version": 2
   },
   "file_extension": ".py",
   "mimetype": "text/x-python",
   "name": "python",
   "nbconvert_exporter": "python",
   "pygments_lexer": "ipython2",
   "version": "2.7.6"
  }
 },
 "nbformat": 4,
 "nbformat_minor": 5
}
