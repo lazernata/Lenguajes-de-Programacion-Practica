{
 "cells": [
  {
   "metadata": {},
   "cell_type": "markdown",
   "source": "# Ejercicio 4",
   "id": "e1c7d9b0541ed3cd"
  },
  {
   "metadata": {},
   "cell_type": "markdown",
   "source": [
    "Deberás verificar si una cadena de paréntesis está correctamente balanceada utilizando\n",
    "una estructura de pila. Una cadena está correctamente balanceada si cada tipo de\n",
    "paréntesis se abre y cierra en el orden adecuado.\n",
    "* Puedes probar con diferentes cadenas, por ejemplo, s = \"{[()()]()}\" o s = \"{[()()]()]\". \n",
    "* Usa deque de collections como una pila. \n",
    "* Define un diccionario ‘brackets’ para map"
   ],
   "id": "1bb950e882969e49"
  },
  {
   "cell_type": "code",
   "execution_count": null,
   "id": "initial_id",
   "metadata": {
    "collapsed": true
   },
   "outputs": [],
   "source": [
    ""
   ]
  }
 ],
 "metadata": {
  "kernelspec": {
   "display_name": "Python 3",
   "language": "python",
   "name": "python3"
  },
  "language_info": {
   "codemirror_mode": {
    "name": "ipython",
    "version": 2
   },
   "file_extension": ".py",
   "mimetype": "text/x-python",
   "name": "python",
   "nbconvert_exporter": "python",
   "pygments_lexer": "ipython2",
   "version": "2.7.6"
  }
 },
 "nbformat": 4,
 "nbformat_minor": 5
}
