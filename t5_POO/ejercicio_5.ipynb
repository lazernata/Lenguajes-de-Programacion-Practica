{
 "cells": [
  {
   "metadata": {},
   "cell_type": "markdown",
   "source": [
    "# Ejercicio 5\n",
    "## Investiga sobre el uso de `__slots__` en Python y comenta el siguiente código:\n",
    "\n",
    "`class Dog:`\n",
    "\n",
    "`__slots__ = [\"nombre\", \"edad\"]`\n",
    "\n",
    "`dog = Dog()`\n",
    "\n",
    "`dog.name = \"Bobby\"`\n",
    "\n",
    "`dog.edad = 3`\n",
    "\n",
    "`dog.genero = \"m\"`"
   ],
   "id": "7ecbf308237e2aa8"
  },
  {
   "metadata": {},
   "cell_type": "markdown",
   "source": [
    "Se intenta asignar el valor 'm' al atributo género de la instancia dog. Esto genera un AttributeError porque gender no está definido en __slots__.\n",
    "__slots__ especifica una lista de atributos permitidos para las instancias de esa clase.\n",
    "Al definir __slots__, se impide que la instancia tenga un diccionario __dict__; \n",
    "se utiliza un modelo de almacenamiento alternativo para los atributos de instancia: los atributos se almacenan en un array, \n",
    "que consume significativamente menos memoria que un diccionario."
   ],
   "id": "308cca4e62242063"
  }
 ],
 "metadata": {
  "kernelspec": {
   "display_name": "Python 3",
   "language": "python",
   "name": "python3"
  },
  "language_info": {
   "codemirror_mode": {
    "name": "ipython",
    "version": 2
   },
   "file_extension": ".py",
   "mimetype": "text/x-python",
   "name": "python",
   "nbconvert_exporter": "python",
   "pygments_lexer": "ipython2",
   "version": "2.7.6"
  }
 },
 "nbformat": 4,
 "nbformat_minor": 5
}
