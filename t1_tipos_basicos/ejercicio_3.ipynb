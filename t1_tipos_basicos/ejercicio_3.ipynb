{
 "cells": [
  {
   "metadata": {},
   "cell_type": "markdown",
   "source": "# Ejercicio 3: Cadenas de caracteres",
   "id": "4ebaa515d1a76b0f"
  },
  {
   "metadata": {},
   "cell_type": "markdown",
   "source": "### 1. Define una variable con un string con el valor `“ E.T., teléfono, mi casa ”`",
   "id": "67724f8b537f9953"
  },
  {
   "metadata": {
    "ExecuteTime": {
     "end_time": "2025-02-18T08:42:56.745647Z",
     "start_time": "2025-02-18T08:42:56.735738Z"
    }
   },
   "cell_type": "code",
   "source": "string = \" E.T., teléfono, mi casa \"",
   "id": "e556808083c3bdd0",
   "outputs": [],
   "execution_count": 6
  },
  {
   "metadata": {},
   "cell_type": "markdown",
   "source": "### 2. Muestra la longitud de la variable anterior. ",
   "id": "e86b75d2416c7e3c"
  },
  {
   "metadata": {
    "ExecuteTime": {
     "end_time": "2025-02-18T08:42:58.154679Z",
     "start_time": "2025-02-18T08:42:58.143411Z"
    }
   },
   "cell_type": "code",
   "source": "len(string)",
   "id": "304c118d7632e35e",
   "outputs": [
    {
     "data": {
      "text/plain": [
       "25"
      ]
     },
     "execution_count": 7,
     "metadata": {},
     "output_type": "execute_result"
    }
   ],
   "execution_count": 7
  },
  {
   "metadata": {},
   "cell_type": "markdown",
   "source": "### 3. Elimina los caracteres de espacio en blanco al comienzo y final del string",
   "id": "99ed02e310663619"
  },
  {
   "metadata": {
    "ExecuteTime": {
     "end_time": "2025-02-18T08:43:00.716238Z",
     "start_time": "2025-02-18T08:43:00.707325Z"
    }
   },
   "cell_type": "code",
   "source": "string = string.strip()",
   "id": "d1b2e1cad853f760",
   "outputs": [],
   "execution_count": 8
  },
  {
   "metadata": {},
   "cell_type": "markdown",
   "source": "### 4. Muestra el primer carácter del string.",
   "id": "11d13098a090c0e7"
  },
  {
   "metadata": {
    "ExecuteTime": {
     "end_time": "2025-02-18T08:43:02.597694Z",
     "start_time": "2025-02-18T08:43:02.583241Z"
    }
   },
   "cell_type": "code",
   "source": "string[0]",
   "id": "bc9c3f0885f55e0b",
   "outputs": [
    {
     "data": {
      "text/plain": [
       "'E'"
      ]
     },
     "execution_count": 9,
     "metadata": {},
     "output_type": "execute_result"
    }
   ],
   "execution_count": 9
  },
  {
   "metadata": {},
   "cell_type": "markdown",
   "source": "### 5. Muestra el penúltimo carácter del string.",
   "id": "978ec11407a0316e"
  },
  {
   "metadata": {
    "ExecuteTime": {
     "end_time": "2025-02-18T08:43:07.439897Z",
     "start_time": "2025-02-18T08:43:07.423409Z"
    }
   },
   "cell_type": "code",
   "source": "string[-2]",
   "id": "2381b103d108da53",
   "outputs": [
    {
     "data": {
      "text/plain": [
       "'s'"
      ]
     },
     "execution_count": 10,
     "metadata": {},
     "output_type": "execute_result"
    }
   ],
   "execution_count": 10
  },
  {
   "metadata": {},
   "cell_type": "markdown",
   "source": "### 6. Convierte la cadena a minúsculas",
   "id": "d7c54f00af6c1ecc"
  },
  {
   "metadata": {
    "ExecuteTime": {
     "end_time": "2025-02-18T08:43:22.075792Z",
     "start_time": "2025-02-18T08:43:22.068208Z"
    }
   },
   "cell_type": "code",
   "source": "string = string.lower()",
   "id": "4ab62856f09dd729",
   "outputs": [],
   "execution_count": 11
  },
  {
   "metadata": {},
   "cell_type": "markdown",
   "source": "### 7. Busca la posición de la subcadena `'mi'` en la cadena.",
   "id": "97d975bb03b2fd8e"
  },
  {
   "metadata": {
    "ExecuteTime": {
     "end_time": "2025-02-18T08:43:33.937849Z",
     "start_time": "2025-02-18T08:43:33.929529Z"
    }
   },
   "cell_type": "code",
   "source": "string.find(\"mi\")",
   "id": "a428447febd427eb",
   "outputs": [
    {
     "data": {
      "text/plain": [
       "16"
      ]
     },
     "execution_count": 12,
     "metadata": {},
     "output_type": "execute_result"
    }
   ],
   "execution_count": 12
  },
  {
   "metadata": {},
   "cell_type": "markdown",
   "source": "### 8. Reemplaza la palabra `'casa'` por `'coche'`",
   "id": "f30696ba5f4e76e5"
  },
  {
   "metadata": {
    "ExecuteTime": {
     "end_time": "2025-02-18T08:43:54.748830Z",
     "start_time": "2025-02-18T08:43:54.737303Z"
    }
   },
   "cell_type": "code",
   "source": "string.replace('casa', 'coche')",
   "id": "246d87b15518d0db",
   "outputs": [
    {
     "data": {
      "text/plain": [
       "'e.t., teléfono, mi coche'"
      ]
     },
     "execution_count": 13,
     "metadata": {},
     "output_type": "execute_result"
    }
   ],
   "execution_count": 13
  },
  {
   "metadata": {},
   "cell_type": "markdown",
   "source": "### 9. Divide la cadena en una lista de subcadenas utilizando la coma como delimitador",
   "id": "e18367468ab75b51"
  },
  {
   "metadata": {
    "ExecuteTime": {
     "end_time": "2025-02-18T08:44:15.634661Z",
     "start_time": "2025-02-18T08:44:15.624652Z"
    }
   },
   "cell_type": "code",
   "source": "string.split(',')",
   "id": "517719b0bacf6e38",
   "outputs": [
    {
     "data": {
      "text/plain": [
       "['e.t.', ' teléfono', ' mi casa']"
      ]
     },
     "execution_count": 14,
     "metadata": {},
     "output_type": "execute_result"
    }
   ],
   "execution_count": 14
  }
 ],
 "metadata": {
  "kernelspec": {
   "display_name": "Python 3",
   "language": "python",
   "name": "python3"
  },
  "language_info": {
   "codemirror_mode": {
    "name": "ipython",
    "version": 2
   },
   "file_extension": ".py",
   "mimetype": "text/x-python",
   "name": "python",
   "nbconvert_exporter": "python",
   "pygments_lexer": "ipython2",
   "version": "2.7.6"
  }
 },
 "nbformat": 4,
 "nbformat_minor": 5
}
