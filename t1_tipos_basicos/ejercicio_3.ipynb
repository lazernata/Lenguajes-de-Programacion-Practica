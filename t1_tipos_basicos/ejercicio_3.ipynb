{
 "cells": [
  {
   "metadata": {},
   "cell_type": "markdown",
   "source": "# Ejercicio 3: Cadenas de caracteres",
   "id": "4ebaa515d1a76b0f"
  },
  {
   "metadata": {},
   "cell_type": "markdown",
   "source": "1. Define una variable con un string con el valor “ E.T., teléfono, mi casa ”",
   "id": "67724f8b537f9953"
  },
  {
   "metadata": {},
   "cell_type": "code",
   "outputs": [],
   "execution_count": null,
   "source": "",
   "id": "e556808083c3bdd0"
  },
  {
   "metadata": {},
   "cell_type": "markdown",
   "source": "2. Muestra la longitud de la variable anterior. ",
   "id": "e86b75d2416c7e3c"
  },
  {
   "metadata": {},
   "cell_type": "code",
   "outputs": [],
   "execution_count": null,
   "source": "",
   "id": "304c118d7632e35e"
  },
  {
   "metadata": {},
   "cell_type": "markdown",
   "source": "3. Elimina los caracteres de espacio en blanco al comienzo y final del string",
   "id": "99ed02e310663619"
  },
  {
   "metadata": {},
   "cell_type": "code",
   "outputs": [],
   "execution_count": null,
   "source": "",
   "id": "d1b2e1cad853f760"
  },
  {
   "metadata": {},
   "cell_type": "markdown",
   "source": "4. Muestra el primer carácter del string.",
   "id": "11d13098a090c0e7"
  },
  {
   "metadata": {},
   "cell_type": "code",
   "outputs": [],
   "execution_count": null,
   "source": "",
   "id": "bc9c3f0885f55e0b"
  },
  {
   "metadata": {},
   "cell_type": "markdown",
   "source": "5. Muestra el penúltimo carácter del string.",
   "id": "978ec11407a0316e"
  },
  {
   "metadata": {},
   "cell_type": "code",
   "outputs": [],
   "execution_count": null,
   "source": "",
   "id": "2381b103d108da53"
  },
  {
   "metadata": {},
   "cell_type": "markdown",
   "source": "6. Convierte la cadena a minúsculas",
   "id": "d7c54f00af6c1ecc"
  },
  {
   "metadata": {},
   "cell_type": "code",
   "outputs": [],
   "execution_count": null,
   "source": "",
   "id": "4ab62856f09dd729"
  },
  {
   "metadata": {},
   "cell_type": "markdown",
   "source": "7. Busca la posición de la subcadena 'mi' en la cadena.",
   "id": "97d975bb03b2fd8e"
  },
  {
   "metadata": {},
   "cell_type": "code",
   "outputs": [],
   "execution_count": null,
   "source": "",
   "id": "a428447febd427eb"
  },
  {
   "metadata": {},
   "cell_type": "markdown",
   "source": "8. Reemplaza la palabra 'casa' por 'coche'",
   "id": "f30696ba5f4e76e5"
  },
  {
   "metadata": {},
   "cell_type": "code",
   "outputs": [],
   "execution_count": null,
   "source": "",
   "id": "246d87b15518d0db"
  },
  {
   "metadata": {},
   "cell_type": "markdown",
   "source": "9. Divide la cadena en una lista de subcadenas utilizando la coma como delimitador",
   "id": "e18367468ab75b51"
  },
  {
   "metadata": {},
   "cell_type": "code",
   "outputs": [],
   "execution_count": null,
   "source": "",
   "id": "517719b0bacf6e38"
  }
 ],
 "metadata": {
  "kernelspec": {
   "display_name": "Python 3",
   "language": "python",
   "name": "python3"
  },
  "language_info": {
   "codemirror_mode": {
    "name": "ipython",
    "version": 2
   },
   "file_extension": ".py",
   "mimetype": "text/x-python",
   "name": "python",
   "nbconvert_exporter": "python",
   "pygments_lexer": "ipython2",
   "version": "2.7.6"
  }
 },
 "nbformat": 4,
 "nbformat_minor": 5
}
