{
 "cells": [
  {
   "metadata": {},
   "cell_type": "markdown",
   "source": "# Ejercicio 2",
   "id": "e4c953e646467e66"
  },
  {
   "metadata": {},
   "cell_type": "markdown",
   "source": "### 1. Define dos números de tipo complejo.",
   "id": "2191bc0e73aee788"
  },
  {
   "metadata": {
    "ExecuteTime": {
     "end_time": "2025-02-18T08:38:21.462565Z",
     "start_time": "2025-02-18T08:38:21.452287Z"
    }
   },
   "cell_type": "code",
   "source": [
    "num1 = 2 + 6j\n",
    "num2 = 7 - 2j"
   ],
   "id": "c820b5c44c3284e6",
   "outputs": [],
   "execution_count": 1
  },
  {
   "metadata": {},
   "cell_type": "markdown",
   "source": "### 2. Muestra por pantalla la parte real del primer número definido en el punto 1",
   "id": "d1cb91d894c6c898"
  },
  {
   "metadata": {
    "ExecuteTime": {
     "end_time": "2025-02-18T08:39:00.568186Z",
     "start_time": "2025-02-18T08:39:00.559773Z"
    }
   },
   "cell_type": "code",
   "source": "print(num1.real)",
   "id": "f603afd9fc5c28e8",
   "outputs": [
    {
     "name": "stdout",
     "output_type": "stream",
     "text": [
      "2.0\n"
     ]
    }
   ],
   "execution_count": 3
  },
  {
   "metadata": {},
   "cell_type": "markdown",
   "source": "### 3. Muestra por pantalla la parte imaginaria del segundo número definido en el punto 1",
   "id": "99dc64497a90383c"
  },
  {
   "metadata": {
    "ExecuteTime": {
     "end_time": "2025-02-18T08:39:14.458350Z",
     "start_time": "2025-02-18T08:39:14.444896Z"
    }
   },
   "cell_type": "code",
   "source": "print(num1.imag)",
   "id": "ad2a6223f5d480ea",
   "outputs": [
    {
     "name": "stdout",
     "output_type": "stream",
     "text": [
      "6.0\n"
     ]
    }
   ],
   "execution_count": 4
  },
  {
   "metadata": {},
   "cell_type": "markdown",
   "source": [
    "### 4. Define la variable f con el resultado de la multiplicación de los dos números\n",
    "complejos"
   ],
   "id": "736da4e34a1e1de2"
  },
  {
   "metadata": {
    "ExecuteTime": {
     "end_time": "2025-02-18T08:39:25.190069Z",
     "start_time": "2025-02-18T08:39:25.178454Z"
    }
   },
   "cell_type": "code",
   "source": "f = num1 * num2",
   "id": "513858f75f41d700",
   "outputs": [],
   "execution_count": 5
  },
  {
   "metadata": {},
   "cell_type": "markdown",
   "source": "### 5. Define una variable num con un número entero.",
   "id": "1dcaa7fb1d282851"
  },
  {
   "metadata": {
    "ExecuteTime": {
     "end_time": "2025-02-18T08:39:34.494006Z",
     "start_time": "2025-02-18T08:39:34.488701Z"
    }
   },
   "cell_type": "code",
   "source": "num = 5",
   "id": "c89a183e99ea1d39",
   "outputs": [],
   "execution_count": 6
  },
  {
   "metadata": {},
   "cell_type": "markdown",
   "source": "### 6. Utiliza el operador bit a bit AND (&) para verificar si el número es par.",
   "id": "50aa68eb7a13c880"
  },
  {
   "cell_type": "code",
   "id": "initial_id",
   "metadata": {
    "collapsed": true,
    "ExecuteTime": {
     "end_time": "2025-02-18T08:40:41.703294Z",
     "start_time": "2025-02-18T08:40:41.691387Z"
    }
   },
   "source": [
    "if num & 1 == 0:\n",
    "    print(f\"{num} es par\")\n",
    "else:\n",
    "    print(f\"{num} es impar\")"
   ],
   "outputs": [
    {
     "name": "stdout",
     "output_type": "stream",
     "text": [
      "5 es impar\n"
     ]
    }
   ],
   "execution_count": 7
  }
 ],
 "metadata": {
  "kernelspec": {
   "display_name": "Python 3",
   "language": "python",
   "name": "python3"
  },
  "language_info": {
   "codemirror_mode": {
    "name": "ipython",
    "version": 2
   },
   "file_extension": ".py",
   "mimetype": "text/x-python",
   "name": "python",
   "nbconvert_exporter": "python",
   "pygments_lexer": "ipython2",
   "version": "2.7.6"
  }
 },
 "nbformat": 4,
 "nbformat_minor": 5
}
