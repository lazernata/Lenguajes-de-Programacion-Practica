{
 "cells": [
  {
   "metadata": {},
   "cell_type": "markdown",
   "source": "# Ejercicio 2",
   "id": "e4c953e646467e66"
  },
  {
   "metadata": {},
   "cell_type": "markdown",
   "source": "1. Define dos números de tipo complejo.",
   "id": "2191bc0e73aee788"
  },
  {
   "metadata": {},
   "cell_type": "code",
   "outputs": [],
   "execution_count": null,
   "source": "",
   "id": "c820b5c44c3284e6"
  },
  {
   "metadata": {},
   "cell_type": "markdown",
   "source": "2. Muestra por pantalla la parte real del primer número definido en el punto 1",
   "id": "d1cb91d894c6c898"
  },
  {
   "metadata": {},
   "cell_type": "code",
   "outputs": [],
   "execution_count": null,
   "source": "",
   "id": "f603afd9fc5c28e8"
  },
  {
   "metadata": {},
   "cell_type": "markdown",
   "source": "3. Muestra por pantalla la parte imaginaria del segundo número definido en el punto 1",
   "id": "99dc64497a90383c"
  },
  {
   "metadata": {},
   "cell_type": "code",
   "outputs": [],
   "execution_count": null,
   "source": "",
   "id": "ad2a6223f5d480ea"
  },
  {
   "metadata": {},
   "cell_type": "markdown",
   "source": [
    "4. Define la variable f con el resultado de la multiplicación de los dos números\n",
    "complejos"
   ],
   "id": "736da4e34a1e1de2"
  },
  {
   "metadata": {},
   "cell_type": "code",
   "outputs": [],
   "execution_count": null,
   "source": "",
   "id": "513858f75f41d700"
  },
  {
   "metadata": {},
   "cell_type": "markdown",
   "source": "5. Define una variable num con un número entero.",
   "id": "1dcaa7fb1d282851"
  },
  {
   "metadata": {},
   "cell_type": "code",
   "outputs": [],
   "execution_count": null,
   "source": "",
   "id": "c89a183e99ea1d39"
  },
  {
   "metadata": {},
   "cell_type": "markdown",
   "source": "6. Utiliza el operador bit a bit AND (&) para verificar si el número es par.",
   "id": "50aa68eb7a13c880"
  },
  {
   "cell_type": "code",
   "execution_count": null,
   "id": "initial_id",
   "metadata": {
    "collapsed": true
   },
   "outputs": [],
   "source": [
    ""
   ]
  }
 ],
 "metadata": {
  "kernelspec": {
   "display_name": "Python 3",
   "language": "python",
   "name": "python3"
  },
  "language_info": {
   "codemirror_mode": {
    "name": "ipython",
    "version": 2
   },
   "file_extension": ".py",
   "mimetype": "text/x-python",
   "name": "python",
   "nbconvert_exporter": "python",
   "pygments_lexer": "ipython2",
   "version": "2.7.6"
  }
 },
 "nbformat": 4,
 "nbformat_minor": 5
}
