{
 "cells": [
  {
   "metadata": {},
   "cell_type": "markdown",
   "source": "# Ejercicio 4: F-strings",
   "id": "531b73d556e0a280"
  },
  {
   "metadata": {},
   "cell_type": "markdown",
   "source": [
    "1. Incorpora variables en un string:\n",
    "a. Define dos variables: nombre y edad.\n",
    "b. Utiliza un f-string para mostrar una cadena que diga \"Hola, mi nombre es\n",
    "[nombre] y tengo [edad] años.\""
   ],
   "id": "52ab8d6955898128"
  },
  {
   "cell_type": "code",
   "execution_count": null,
   "id": "initial_id",
   "metadata": {
    "collapsed": true
   },
   "outputs": [],
   "source": ""
  },
  {
   "metadata": {},
   "cell_type": "markdown",
   "source": [
    "2. Realiza operaciones aritméticas:\n",
    "a. Define dos variables: a y b con valores enteros.\n",
    "b. Utiliza un f-string para mostrar el resultado de sumar estas dos variables en\n",
    "una cadena que diga \"Cinco más diez es [resultado].\""
   ],
   "id": "cc3fd17d1b6c606f"
  },
  {
   "metadata": {},
   "cell_type": "code",
   "outputs": [],
   "execution_count": null,
   "source": "",
   "id": "f1cd032487433284"
  },
  {
   "metadata": {},
   "cell_type": "markdown",
   "source": [
    "3. Formatea números:\n",
    "a. Define una variable pi con el valor 3.14159265.\n",
    "b. Utiliza un f-string para mostrar el valor de pi redondeado a dos decimales en\n",
    "una cadena que diga \"El valor de pi redondeado a dos decimales es\n",
    "[valor_redondeado].\""
   ],
   "id": "eb0638e017d75bd3"
  },
  {
   "metadata": {},
   "cell_type": "code",
   "outputs": [],
   "execution_count": null,
   "source": "",
   "id": "a931429014a5c733"
  },
  {
   "metadata": {},
   "cell_type": "markdown",
   "source": [
    "4. Incluye expresiones condicionales:\n",
    "a. Define una variable ‘score’.\n",
    "b. Utiliza un f-string con una expresión condicional para mostrar \"Tu calificación\n",
    "es [aprobado/suspendido]\" basado en si ‘score’ es mayor o igual a 50."
   ],
   "id": "c59e8facb02e8e02"
  },
  {
   "metadata": {},
   "cell_type": "code",
   "outputs": [],
   "execution_count": null,
   "source": "",
   "id": "1c88f97bcf14c6be"
  }
 ],
 "metadata": {
  "kernelspec": {
   "display_name": "Python 3",
   "language": "python",
   "name": "python3"
  },
  "language_info": {
   "codemirror_mode": {
    "name": "ipython",
    "version": 2
   },
   "file_extension": ".py",
   "mimetype": "text/x-python",
   "name": "python",
   "nbconvert_exporter": "python",
   "pygments_lexer": "ipython2",
   "version": "2.7.6"
  }
 },
 "nbformat": 4,
 "nbformat_minor": 5
}
