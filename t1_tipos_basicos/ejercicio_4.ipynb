{
 "cells": [
  {
   "metadata": {},
   "cell_type": "markdown",
   "source": "# Ejercicio 4: F-strings",
   "id": "531b73d556e0a280"
  },
  {
   "metadata": {},
   "cell_type": "markdown",
   "source": [
    "### 1. Incorpora variables en un string:\n",
    "\n",
    "####    a. Define dos variables: nombre y edad.\n",
    "\n",
    "####    b. Utiliza un f-string para mostrar una cadena que diga `\"Hola, mi nombre es [nombre] y tengo [edad] años.\"`"
   ],
   "id": "52ab8d6955898128"
  },
  {
   "cell_type": "code",
   "id": "initial_id",
   "metadata": {
    "collapsed": true,
    "ExecuteTime": {
     "end_time": "2025-02-18T08:46:12.954903Z",
     "start_time": "2025-02-18T08:46:12.943120Z"
    }
   },
   "source": [
    "nombre = 'Natalia'\n",
    "edad = '24'\n",
    "\n",
    "print(f'Hola, mi nombre es {nombre} y tengo {edad} años')"
   ],
   "outputs": [
    {
     "name": "stdout",
     "output_type": "stream",
     "text": [
      "Hola, mi nombre es Natalia y tengo 24 años\n"
     ]
    }
   ],
   "execution_count": 2
  },
  {
   "metadata": {},
   "cell_type": "markdown",
   "source": [
    "### 2. Realiza operaciones aritméticas:\n",
    "#### a. Define dos variables: `a` y `b` con valores enteros.\n",
    "#### b. Utiliza un f-string para mostrar el resultado de sumar estas dos variables en una cadena que diga `\"Cinco más diez es [resultado].\"`"
   ],
   "id": "cc3fd17d1b6c606f"
  },
  {
   "metadata": {
    "ExecuteTime": {
     "end_time": "2025-02-18T08:51:28.882757Z",
     "start_time": "2025-02-18T08:51:28.871992Z"
    }
   },
   "cell_type": "code",
   "source": [
    "a = 2\n",
    "b = 5\n",
    "\n",
    "print(f'Dos más cinco es {a+b}')"
   ],
   "id": "f1cd032487433284",
   "outputs": [
    {
     "name": "stdout",
     "output_type": "stream",
     "text": [
      "Dos más cinco es 7\n"
     ]
    }
   ],
   "execution_count": 3
  },
  {
   "metadata": {},
   "cell_type": "markdown",
   "source": [
    "### 3. Formatea números:\n",
    "#### a. Define una variable `pi` con el valor 3.14159265.\n",
    "#### b. Utiliza un f-string para mostrar el valor de pi redondeado a dos decimales en una cadena que diga `\"El valor de pi redondeado a dos decimales es [valor_redondeado].\"`"
   ],
   "id": "eb0638e017d75bd3"
  },
  {
   "metadata": {
    "ExecuteTime": {
     "end_time": "2025-02-18T08:52:34.110925Z",
     "start_time": "2025-02-18T08:52:34.103272Z"
    }
   },
   "cell_type": "code",
   "source": [
    "pi = 3.14159265\n",
    "print(f'El valor de pi redondeado a dos decimales es {round(pi, 2)}')"
   ],
   "id": "a931429014a5c733",
   "outputs": [
    {
     "name": "stdout",
     "output_type": "stream",
     "text": [
      "El valor de pi redondeado a dos decimales es 3.14\n"
     ]
    }
   ],
   "execution_count": 4
  },
  {
   "metadata": {},
   "cell_type": "markdown",
   "source": [
    "### 4. Incluye expresiones condicionales:\n",
    "#### a. Define una variable `score`.\n",
    "#### b. Utiliza un f-string con una expresión condicional para mostrar `\"Tu calificación es [aprobado/suspendido]\"` basado en si ‘score’ es mayor o igual a 50."
   ],
   "id": "c59e8facb02e8e02"
  },
  {
   "metadata": {
    "ExecuteTime": {
     "end_time": "2025-02-18T08:56:19.414451Z",
     "start_time": "2025-02-18T08:56:19.401751Z"
    }
   },
   "cell_type": "code",
   "source": [
    "score = 15\n",
    "\n",
    "print(f'Tu calificación es {\"aprobado\" if score >= 50 else \"suspendido\"}')"
   ],
   "id": "1c88f97bcf14c6be",
   "outputs": [
    {
     "name": "stdout",
     "output_type": "stream",
     "text": [
      "Tu calificación es suspendido\n"
     ]
    }
   ],
   "execution_count": 11
  },
  {
   "metadata": {},
   "cell_type": "markdown",
   "source": [
    "### 5. Ejemplo de depuración con f-strings\n",
    "\n",
    "Verificando los valores de las variables antes de calcular el área\n",
    "Usamos f-strings para imprimir las variables base y altura con sus nombres, útil para la depuración.\n",
    "Usamos f-strings para imprimir la variable area con su nombre, útil para la depuración."
   ],
   "id": "da03f06dbf9916d5"
  },
  {
   "metadata": {
    "ExecuteTime": {
     "end_time": "2025-02-18T08:57:53.506593Z",
     "start_time": "2025-02-18T08:57:53.496449Z"
    }
   },
   "cell_type": "code",
   "source": [
    "base = 10\n",
    "altura = 5\n",
    "\n",
    "print(f\"{base=}\")  # Imprimirá base=10\n",
    "print(f\"{altura=}\")  # Imprimirá altura=5\n",
    "area = base * altura\n",
    "\n",
    "print(f\"{area=}\")  # Imprimirá area=50"
   ],
   "id": "4b084435ff431575",
   "outputs": [
    {
     "name": "stdout",
     "output_type": "stream",
     "text": [
      "base=10\n",
      "altura=5\n",
      "area=50\n"
     ]
    }
   ],
   "execution_count": 12
  }
 ],
 "metadata": {
  "kernelspec": {
   "display_name": "Python 3",
   "language": "python",
   "name": "python3"
  },
  "language_info": {
   "codemirror_mode": {
    "name": "ipython",
    "version": 2
   },
   "file_extension": ".py",
   "mimetype": "text/x-python",
   "name": "python",
   "nbconvert_exporter": "python",
   "pygments_lexer": "ipython2",
   "version": "2.7.6"
  }
 },
 "nbformat": 4,
 "nbformat_minor": 5
}
