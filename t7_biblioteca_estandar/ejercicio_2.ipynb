{
 "cells": [
  {
   "metadata": {},
   "cell_type": "markdown",
   "source": [
    "# Ejercicio 2\n",
    "\n",
    "En este ejercicio, utilizarás el módulo `random` para seleccionar frutas aleatorias de una lista\n",
    "y crear un batido:\n",
    "`frutas = ['manzana', 'plátano', 'cereza', 'mango', 'piña', 'fresa']`"
   ],
   "id": "471d992db467c39a"
  },
  {
   "cell_type": "code",
   "id": "initial_id",
   "metadata": {
    "collapsed": true,
    "ExecuteTime": {
     "end_time": "2025-02-19T14:23:18.177797Z",
     "start_time": "2025-02-19T14:23:18.172021Z"
    }
   },
   "source": [
    "import random\n",
    "import itertools\n",
    "\n",
    "frutas = ['manzana', 'plátano', 'cereza', 'mango', 'piña', 'fresa']"
   ],
   "outputs": [],
   "execution_count": 16
  },
  {
   "metadata": {},
   "cell_type": "markdown",
   "source": "1. Selecciona una fruta aleatoria de la lista para el batido:",
   "id": "a65d9a49cdb5f394"
  },
  {
   "metadata": {
    "ExecuteTime": {
     "end_time": "2025-02-19T14:21:34.747428Z",
     "start_time": "2025-02-19T14:21:34.740880Z"
    }
   },
   "cell_type": "code",
   "source": [
    "batido = random.choices(frutas)\n",
    "print(batido)"
   ],
   "id": "718ae28b0dc78765",
   "outputs": [
    {
     "name": "stdout",
     "output_type": "stream",
     "text": [
      "['cereza']\n"
     ]
    }
   ],
   "execution_count": 13
  },
  {
   "metadata": {},
   "cell_type": "markdown",
   "source": [
    "2. Mezcla la lista de frutas (usa `random.shuffle`) y selecciona las dos primeras frutas de la\n",
    "lista mezclada para añadir al batido:"
   ],
   "id": "d97877d8101e370b"
  },
  {
   "metadata": {
    "ExecuteTime": {
     "end_time": "2025-02-19T14:22:16.659416Z",
     "start_time": "2025-02-19T14:22:16.650154Z"
    }
   },
   "cell_type": "code",
   "source": [
    "random.shuffle(frutas)\n",
    "frutas_para_agregar = frutas[:2]\n",
    "\n",
    "print(frutas_para_agregar)"
   ],
   "id": "ca9840d0eb545b77",
   "outputs": [
    {
     "name": "stdout",
     "output_type": "stream",
     "text": [
      "['mango', 'cereza']\n"
     ]
    }
   ],
   "execution_count": 14
  },
  {
   "metadata": {},
   "cell_type": "markdown",
   "source": "3. Elige una muestra de tres frutas de la lista de frutas para decorar el batido.",
   "id": "52ae19b3de719ccc"
  },
  {
   "metadata": {
    "ExecuteTime": {
     "end_time": "2025-02-19T14:22:49.736072Z",
     "start_time": "2025-02-19T14:22:49.726248Z"
    }
   },
   "cell_type": "code",
   "source": [
    "muestra = random.sample(frutas, 3)\n",
    "print(muestra)"
   ],
   "id": "59e55baada25e9a3",
   "outputs": [
    {
     "name": "stdout",
     "output_type": "stream",
     "text": [
      "['piña', 'manzana', 'plátano']\n"
     ]
    }
   ],
   "execution_count": 15
  },
  {
   "metadata": {},
   "cell_type": "markdown",
   "source": "4. Usa `itertools` para generar todas las combinaciones posibles de tres frutas.",
   "id": "94b2a33299adc1ac"
  },
  {
   "metadata": {
    "ExecuteTime": {
     "end_time": "2025-02-19T14:23:30.229748Z",
     "start_time": "2025-02-19T14:23:30.218186Z"
    }
   },
   "cell_type": "code",
   "source": [
    "combinaciones = list(itertools.combinations(frutas, 3))\n",
    "\n",
    "print(\"Todas las combinaciones posibles de tres frutas son:\")\n",
    "for combinacion in combinaciones:\n",
    "    print(combinacion)"
   ],
   "id": "7969aa0864f1d9b1",
   "outputs": [
    {
     "name": "stdout",
     "output_type": "stream",
     "text": [
      "Todas las combinaciones posibles de tres frutas son:\n",
      "('manzana', 'plátano', 'cereza')\n",
      "('manzana', 'plátano', 'mango')\n",
      "('manzana', 'plátano', 'piña')\n",
      "('manzana', 'plátano', 'fresa')\n",
      "('manzana', 'cereza', 'mango')\n",
      "('manzana', 'cereza', 'piña')\n",
      "('manzana', 'cereza', 'fresa')\n",
      "('manzana', 'mango', 'piña')\n",
      "('manzana', 'mango', 'fresa')\n",
      "('manzana', 'piña', 'fresa')\n",
      "('plátano', 'cereza', 'mango')\n",
      "('plátano', 'cereza', 'piña')\n",
      "('plátano', 'cereza', 'fresa')\n",
      "('plátano', 'mango', 'piña')\n",
      "('plátano', 'mango', 'fresa')\n",
      "('plátano', 'piña', 'fresa')\n",
      "('cereza', 'mango', 'piña')\n",
      "('cereza', 'mango', 'fresa')\n",
      "('cereza', 'piña', 'fresa')\n",
      "('mango', 'piña', 'fresa')\n"
     ]
    }
   ],
   "execution_count": 17
  }
 ],
 "metadata": {
  "kernelspec": {
   "display_name": "Python 3",
   "language": "python",
   "name": "python3"
  },
  "language_info": {
   "codemirror_mode": {
    "name": "ipython",
    "version": 2
   },
   "file_extension": ".py",
   "mimetype": "text/x-python",
   "name": "python",
   "nbconvert_exporter": "python",
   "pygments_lexer": "ipython2",
   "version": "2.7.6"
  }
 },
 "nbformat": 4,
 "nbformat_minor": 5
}
