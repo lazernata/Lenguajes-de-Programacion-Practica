{
 "cells": [
  {
   "metadata": {},
   "cell_type": "markdown",
   "source": [
    "# Ejercicio 3: Funciones anónimas\n",
    "## 1. Define una función `lambda` que calcule el cuadrado de un número"
   ],
   "id": "67d8b70f527d21ea"
  },
  {
   "cell_type": "code",
   "execution_count": null,
   "id": "initial_id",
   "metadata": {
    "collapsed": true
   },
   "outputs": [],
   "source": [
    ""
   ]
  },
  {
   "metadata": {},
   "cell_type": "markdown",
   "source": [
    "## 2. Define una función `lambda` que devuelva `True` si el cuadrado de un número es mayor\n",
    "que 999 si no devuelve `False`."
   ],
   "id": "33371586004ce52e"
  },
  {
   "metadata": {},
   "cell_type": "code",
   "outputs": [],
   "execution_count": null,
   "source": "",
   "id": "5a7830f8c5efbbc6"
  },
  {
   "metadata": {},
   "cell_type": "markdown",
   "source": [
    "## 3. Implementa una función en Python que invierta el orden de las palabras en una cadena dada, eliminando cualquier espacio adicional:\n",
    "`cadenas = [\"el cielo es azul\", \" hola mundo \", \"un buen ejemplo\"]`\n",
    "* ### Esta función debe aceptar una cadena como entrada y devolver una cadena con las palabras en orden inverso. \n",
    "* ### Elimina cualquier espacio adicional antes de invertir el orden de las palabras. \n",
    "* ### Utiliza la función `filter()` para ello.\n",
    "* ### Al ejecutar el código, deberías obtener el siguiente resultado:\n",
    "Entrada: `'el cielo es azul'` -> Salida: `'azul es cielo el'`\n",
    "Entrada: `' hola mundo '` -> Salida: `'mundo hola'`\n",
    "Entrada: `'un buen ejemplo'` -> Salida: `'ejemplo buen un'`"
   ],
   "id": "52ddc63c78c0baa6"
  },
  {
   "metadata": {},
   "cell_type": "code",
   "outputs": [],
   "execution_count": null,
   "source": "",
   "id": "bee23f6ec57a68c2"
  }
 ],
 "metadata": {
  "kernelspec": {
   "display_name": "Python 3",
   "language": "python",
   "name": "python3"
  },
  "language_info": {
   "codemirror_mode": {
    "name": "ipython",
    "version": 2
   },
   "file_extension": ".py",
   "mimetype": "text/x-python",
   "name": "python",
   "nbconvert_exporter": "python",
   "pygments_lexer": "ipython2",
   "version": "2.7.6"
  }
 },
 "nbformat": 4,
 "nbformat_minor": 5
}
