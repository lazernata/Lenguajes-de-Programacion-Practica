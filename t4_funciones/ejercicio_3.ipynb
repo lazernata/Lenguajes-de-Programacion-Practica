{
 "cells": [
  {
   "metadata": {},
   "cell_type": "markdown",
   "source": [
    "# Ejercicio 3: Funciones anónimas\n",
    "## 1. Define una función `lambda` que calcule el cuadrado de un número"
   ],
   "id": "67d8b70f527d21ea"
  },
  {
   "cell_type": "code",
   "id": "initial_id",
   "metadata": {
    "collapsed": true,
    "ExecuteTime": {
     "end_time": "2025-02-19T08:44:08.161443Z",
     "start_time": "2025-02-19T08:44:08.146396Z"
    }
   },
   "source": [
    "square = lambda x: x ** 2\n",
    "print(square(3))"
   ],
   "outputs": [
    {
     "name": "stdout",
     "output_type": "stream",
     "text": [
      "9\n"
     ]
    }
   ],
   "execution_count": 1
  },
  {
   "metadata": {},
   "cell_type": "markdown",
   "source": "## 2. Define una función `lambda` que devuelva `True` si el cuadrado de un número es mayor que 999 si no devuelve `False`.",
   "id": "33371586004ce52e"
  },
  {
   "metadata": {
    "ExecuteTime": {
     "end_time": "2025-02-19T08:44:40.347801Z",
     "start_time": "2025-02-19T08:44:40.336576Z"
    }
   },
   "cell_type": "code",
   "source": [
    "square_num = lambda x: x**555 > 999\n",
    "print(square_num(3))"
   ],
   "id": "5a7830f8c5efbbc6",
   "outputs": [
    {
     "name": "stdout",
     "output_type": "stream",
     "text": [
      "True\n"
     ]
    }
   ],
   "execution_count": 5
  },
  {
   "metadata": {},
   "cell_type": "markdown",
   "source": [
    "## 3. Implementa una función en Python que invierta el orden de las palabras en una cadena dada, eliminando cualquier espacio adicional:\n",
    "`cadenas = [\"el cielo es azul\", \" hola mundo \", \"un buen ejemplo\"]`\n",
    "* ### Esta función debe aceptar una cadena como entrada y devolver una cadena con las palabras en orden inverso.\n",
    "* ### Elimina cualquier espacio adicional antes de invertir el orden de las palabras.\n",
    "* ### Utiliza la función `filter()` para ello.\n",
    "* ### Al ejecutar el código, deberías obtener el siguiente resultado:\n",
    "Entrada: `'el cielo es azul'` -> Salida: `'azul es cielo el'`\n",
    "Entrada: `' hola mundo '` -> Salida: `'mundo hola'`\n",
    "Entrada: `'un buen ejemplo'` -> Salida: `'ejemplo buen un'`"
   ],
   "id": "52ddc63c78c0baa6"
  },
  {
   "metadata": {
    "ExecuteTime": {
     "end_time": "2025-02-19T09:09:57.807801Z",
     "start_time": "2025-02-19T09:09:57.798572Z"
    }
   },
   "cell_type": "code",
   "source": [
    "cadenas = [\"el cielo es azul\", \" hola mundo \", \"un buen ejemplo\"]\n",
    "\n",
    "def my_func(cadena):\n",
    "    return ' '.join(reversed(cadena.strip().split()))\n",
    "\n",
    "b = map(my_func, cadenas)\n",
    "print(list(b))"
   ],
   "id": "cc5cf75861a2cb95",
   "outputs": [
    {
     "name": "stdout",
     "output_type": "stream",
     "text": [
      "['azul es cielo el', 'mundo hola', 'ejemplo buen un']\n"
     ]
    }
   ],
   "execution_count": 54
  }
 ],
 "metadata": {
  "kernelspec": {
   "display_name": "Python 3",
   "language": "python",
   "name": "python3"
  },
  "language_info": {
   "codemirror_mode": {
    "name": "ipython",
    "version": 2
   },
   "file_extension": ".py",
   "mimetype": "text/x-python",
   "name": "python",
   "nbconvert_exporter": "python",
   "pygments_lexer": "ipython2",
   "version": "2.7.6"
  }
 },
 "nbformat": 4,
 "nbformat_minor": 5
}
