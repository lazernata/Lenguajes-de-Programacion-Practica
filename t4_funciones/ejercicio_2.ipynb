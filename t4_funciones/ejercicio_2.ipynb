{
 "cells": [
  {
   "metadata": {},
   "cell_type": "markdown",
   "source": "# Ejercicio 2",
   "id": "821c5ddbfadd89de"
  },
  {
   "metadata": {},
   "cell_type": "markdown",
   "source": [
    "### En este ejercicio, crearás una función que busque anagramas de una palabra específica dentro de un contenedor de palabra. Un anagrama es una reordenación de las letras de una palabra que forma otra palabra válida.\n",
    "\n",
    "#### Define la función `buscar_anagramas`:\n",
    "* ##### Esta función debe aceptar una palabra y un contenedor que contiene palabras conocidas. Por ejemplo:\n",
    "##### `palabra = “listen”`\n",
    "##### `contenedor = [\"enlists\", \"foo\", \"bar\", \"inlets\", \"listen\", \"silent\"]`\n",
    "* ##### Debe devolver una lista de anagramas encontrados en el contenedor:\n",
    "##### `anagramas = ['inlets', 'listen', 'silent']`"
   ],
   "id": "e50568c7623d6133"
  },
  {
   "metadata": {
    "ExecuteTime": {
     "end_time": "2025-02-18T15:34:59.035311Z",
     "start_time": "2025-02-18T15:34:59.018660Z"
    }
   },
   "cell_type": "code",
   "source": [
    "palabra = 'listen'\n",
    "contenedor = [\"enlists\", \"foo\", \"bar\", \"inlets\", \"listen\", \"silent\"]\n",
    "\n",
    "def buscar_anagramas(word: str, container: list):\n",
    "    word_decomposed = sorted(word)\n",
    "    pila = []\n",
    "    for k in container:\n",
    "        if sorted(k) == word_decomposed:\n",
    "            pila.append(k)\n",
    "    return pila\n",
    "\n",
    "buscar_anagramas(palabra, contenedor)"
   ],
   "id": "6b24b2cce6859034",
   "outputs": [
    {
     "data": {
      "text/plain": [
       "['inlets', 'listen', 'silent']"
      ]
     },
     "execution_count": 51,
     "metadata": {},
     "output_type": "execute_result"
    }
   ],
   "execution_count": 51
  }
 ],
 "metadata": {
  "kernelspec": {
   "name": "python3",
   "language": "python",
   "display_name": "Python 3 (ipykernel)"
  }
 },
 "nbformat": 5,
 "nbformat_minor": 9
}
