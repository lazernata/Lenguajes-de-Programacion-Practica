{
 "cells": [
  {
   "metadata": {},
   "cell_type": "markdown",
   "source": "# Ejercicio 2",
   "id": "821c5ddbfadd89de"
  },
  {
   "metadata": {},
   "cell_type": "markdown",
   "source": [
    "### En este ejercicio, crearás una función que busque anagramas de una palabra específica dentro de un contenedor de palabra. Un anagrama es una reordenación de las letras de una palabra que forma otra palabra válida.\n",
    "\n",
    "#### Define la función `buscar_anagramas`:\n",
    "* ##### Esta función debe aceptar una palabra y un contenedor que contiene palabras conocidas. Por ejemplo:\n",
    "##### `palabra = “listen”`\n",
    "##### `contenedor = [\"enlists\", \"foo\", \"bar\", \"inlets\", \"listen\", \"silent\"]`\n",
    "* ##### Debe devolver una lista de anagramas encontrados en el contenedor:\n",
    "##### `anagramas = ['inlets', 'listen', 'silent']`"
   ],
   "id": "e50568c7623d6133"
  },
  {
   "metadata": {},
   "cell_type": "code",
   "outputs": [],
   "execution_count": null,
   "source": "",
   "id": "6b24b2cce6859034"
  }
 ],
 "metadata": {},
 "nbformat": 5,
 "nbformat_minor": 9
}
