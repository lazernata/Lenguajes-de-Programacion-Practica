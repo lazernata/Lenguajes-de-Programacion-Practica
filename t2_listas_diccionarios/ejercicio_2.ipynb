{
 "cells": [
  {
   "metadata": {},
   "cell_type": "markdown",
   "source": "# Ejercicio 2\n",
   "id": "2fb1d261b4ec42c4"
  },
  {
   "metadata": {},
   "cell_type": "markdown",
   "source": "### En este ejercicio, deberás eliminar los elementos duplicados de una lista, ordenar los elementos resultantes y mostrar el número de elementos únicos junto con la lista ordenada. ",
   "id": "e39201971ea060f3"
  },
  {
   "metadata": {},
   "cell_type": "markdown",
   "source": "* #### Define una lista `nums` con los valores `[1, 5, 5, 2, 1]`.",
   "id": "bd6b68df5c310c34"
  },
  {
   "metadata": {
    "ExecuteTime": {
     "end_time": "2025-02-18T09:05:06.634552Z",
     "start_time": "2025-02-18T09:05:06.625921Z"
    }
   },
   "cell_type": "code",
   "source": "nums = [1,5,5,2,1]",
   "id": "ba93d400604c0045",
   "outputs": [],
   "execution_count": 1
  },
  {
   "metadata": {},
   "cell_type": "markdown",
   "source": "* #### La salida del código deberá ser: `Número de elementos no duplicados: 3 -> [1, 2, 5]`",
   "id": "88dac07d5d2da720"
  },
  {
   "metadata": {
    "ExecuteTime": {
     "end_time": "2025-02-18T09:08:19.466437Z",
     "start_time": "2025-02-18T09:08:19.457897Z"
    }
   },
   "cell_type": "code",
   "source": [
    "nums = sorted(set(nums))\n",
    "print(f'Número de elementos no duplicados: {len(nums)} -> {nums}')"
   ],
   "id": "473aa720215fcfd1",
   "outputs": [
    {
     "name": "stdout",
     "output_type": "stream",
     "text": [
      "Número de elementos no duplicados: 3 -> [1, 2, 5]\n"
     ]
    }
   ],
   "execution_count": 2
  },
  {
   "metadata": {},
   "cell_type": "markdown",
   "source": "* #### Crea otra lista `num2` con los valores `[1, 1, 2]`",
   "id": "a55a92f93b3f40bc"
  },
  {
   "metadata": {
    "ExecuteTime": {
     "end_time": "2025-02-18T09:08:34.362576Z",
     "start_time": "2025-02-18T09:08:34.351205Z"
    }
   },
   "cell_type": "code",
   "source": "nums2 = [1,1,2]",
   "id": "7931819583e9a8e",
   "outputs": [],
   "execution_count": 3
  },
  {
   "metadata": {},
   "cell_type": "markdown",
   "source": "* #### Encuentra los elementos que aparecen en ambas listas y los elementos de la primera lista que no se encuentran en la segunda. Puedes convertir las listas a sets ",
   "id": "b0e1513c87b1b0d9"
  },
  {
   "metadata": {
    "ExecuteTime": {
     "end_time": "2025-02-18T09:14:41.704467Z",
     "start_time": "2025-02-18T09:14:41.693077Z"
    }
   },
   "cell_type": "code",
   "source": [
    "set_nums = set(nums)\n",
    "set_nums2 = set(nums2)\n",
    "\n",
    "print(f\"Elementos comunes: {set_nums & set_nums2}\")\n",
    "print(f\"Elementos únicos en la primera lista: {set_nums - set_nums2}\")"
   ],
   "id": "bee8becbff7b72e5",
   "outputs": [
    {
     "name": "stdout",
     "output_type": "stream",
     "text": [
      "Elementos comunes: {1, 2}\n",
      "Elementos únicos en la primera lista: {5}\n"
     ]
    }
   ],
   "execution_count": 6
  }
 ],
 "metadata": {
  "kernelspec": {
   "display_name": "Python 3",
   "language": "python",
   "name": "python3"
  },
  "language_info": {
   "codemirror_mode": {
    "name": "ipython",
    "version": 2
   },
   "file_extension": ".py",
   "mimetype": "text/x-python",
   "name": "python",
   "nbconvert_exporter": "python",
   "pygments_lexer": "ipython2",
   "version": "2.7.6"
  }
 },
 "nbformat": 4,
 "nbformat_minor": 5
}
