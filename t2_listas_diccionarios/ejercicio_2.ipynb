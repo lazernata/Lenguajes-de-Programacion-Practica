{
 "cells": [
  {
   "metadata": {},
   "cell_type": "markdown",
   "source": "# Ejercicio 2\n",
   "id": "2fb1d261b4ec42c4"
  },
  {
   "metadata": {},
   "cell_type": "markdown",
   "source": [
    "En este ejercicio, deberás eliminar los elementos duplicados de una lista, ordenar los\n",
    "elementos resultantes y mostrar el número de elementos únicos junto con la lista ordenada. "
   ],
   "id": "e39201971ea060f3"
  },
  {
   "cell_type": "code",
   "execution_count": null,
   "id": "initial_id",
   "metadata": {
    "collapsed": true
   },
   "outputs": [],
   "source": [
    ""
   ]
  },
  {
   "metadata": {},
   "cell_type": "markdown",
   "source": "* Define una lista ‘nums’ con los valores [1, 5, 5, 2, 1].",
   "id": "bd6b68df5c310c34"
  },
  {
   "metadata": {},
   "cell_type": "code",
   "outputs": [],
   "execution_count": null,
   "source": "",
   "id": "ba93d400604c0045"
  },
  {
   "metadata": {},
   "cell_type": "markdown",
   "source": [
    "* La salida del código deberá ser:\n",
    "o Número de elementos no duplicados: 3 -> [1, 2, 5]"
   ],
   "id": "88dac07d5d2da720"
  },
  {
   "metadata": {},
   "cell_type": "code",
   "outputs": [],
   "execution_count": null,
   "source": "",
   "id": "473aa720215fcfd1"
  },
  {
   "metadata": {},
   "cell_type": "markdown",
   "source": "* Crea otra lista ‘num2’ con los valores [1, 1, 2]",
   "id": "a55a92f93b3f40bc"
  },
  {
   "metadata": {},
   "cell_type": "code",
   "outputs": [],
   "execution_count": null,
   "source": "",
   "id": "7931819583e9a8e"
  },
  {
   "metadata": {},
   "cell_type": "markdown",
   "source": [
    "* Encuentra los elementos que aparecen en ambas listas y los elementos de la primera\n",
    "lista que no se encuentran en la segunda. Puedes convertir las listas a sets "
   ],
   "id": "b0e1513c87b1b0d9"
  },
  {
   "metadata": {},
   "cell_type": "code",
   "outputs": [],
   "execution_count": null,
   "source": "",
   "id": "bee8becbff7b72e5"
  }
 ],
 "metadata": {
  "kernelspec": {
   "display_name": "Python 3",
   "language": "python",
   "name": "python3"
  },
  "language_info": {
   "codemirror_mode": {
    "name": "ipython",
    "version": 2
   },
   "file_extension": ".py",
   "mimetype": "text/x-python",
   "name": "python",
   "nbconvert_exporter": "python",
   "pygments_lexer": "ipython2",
   "version": "2.7.6"
  }
 },
 "nbformat": 4,
 "nbformat_minor": 5
}
