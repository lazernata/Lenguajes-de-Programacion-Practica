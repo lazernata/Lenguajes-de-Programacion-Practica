{
 "cells": [
  {
   "metadata": {},
   "cell_type": "markdown",
   "source": "# Ejercicio 3",
   "id": "fc9c58059312922"
  },
  {
   "metadata": {},
   "cell_type": "markdown",
   "source": "### Para realizar este ejercicio tienes un diccionario con las claves: coche, motocicleta, camión y los valores: 10, 20 y 30 respectivamente. ",
   "id": "ecc485a215dc0da6"
  },
  {
   "metadata": {},
   "cell_type": "markdown",
   "source": "* #### Define el diccionario usando `dict()`.",
   "id": "e1919b612b255126"
  },
  {
   "metadata": {
    "ExecuteTime": {
     "end_time": "2025-02-18T09:17:46.957324Z",
     "start_time": "2025-02-18T09:17:46.948500Z"
    }
   },
   "cell_type": "code",
   "source": [
    "dict_dict = dict(coches=10, motocicleta=20, camión=30)\n",
    "print(dict_dict)"
   ],
   "id": "39a3d5d246876cf7",
   "outputs": [
    {
     "name": "stdout",
     "output_type": "stream",
     "text": [
      "{'coches': 10, 'motocicleta': 20, 'camión': 30}\n"
     ]
    }
   ],
   "execution_count": 3
  },
  {
   "metadata": {},
   "cell_type": "markdown",
   "source": "* #### Define el diccionario usando `{ }`.",
   "id": "8aba205b49160da8"
  },
  {
   "metadata": {
    "ExecuteTime": {
     "end_time": "2025-02-18T09:18:06.979195Z",
     "start_time": "2025-02-18T09:18:06.972043Z"
    }
   },
   "cell_type": "code",
   "source": [
    "dict_llaves = {'coches':10, 'motocicleta':20, 'camión':30}\n",
    "print(dict_llaves) "
   ],
   "id": "c555e15eddf9c8fb",
   "outputs": [
    {
     "name": "stdout",
     "output_type": "stream",
     "text": [
      "{'coches': 10, 'motocicleta': 20, 'camión': 30}\n"
     ]
    }
   ],
   "execution_count": 4
  },
  {
   "metadata": {},
   "cell_type": "markdown",
   "source": "* #### Define el diccionario usando `zip()`.",
   "id": "ddc4d35df982656e"
  },
  {
   "metadata": {
    "ExecuteTime": {
     "end_time": "2025-02-18T09:19:31.819226Z",
     "start_time": "2025-02-18T09:19:31.805213Z"
    }
   },
   "cell_type": "code",
   "source": [
    "tipo = ['coches', 'motocicleta', 'camión']\n",
    "valor = [10,20,30]\n",
    "dict_zip = dict(zip(tipo, valor))\n",
    "print(dict_zip)"
   ],
   "id": "ab986027be255c91",
   "outputs": [
    {
     "name": "stdout",
     "output_type": "stream",
     "text": [
      "{'coches': 10, 'motocicleta': 20, 'camión': 30}\n"
     ]
    }
   ],
   "execution_count": 7
  },
  {
   "metadata": {},
   "cell_type": "markdown",
   "source": "* #### Muestra los valores del diccionario.",
   "id": "5661c1345afa3263"
  },
  {
   "metadata": {
    "ExecuteTime": {
     "end_time": "2025-02-18T09:19:51.938206Z",
     "start_time": "2025-02-18T09:19:51.925381Z"
    }
   },
   "cell_type": "code",
   "source": "print(dict_llaves.values())",
   "id": "80b51b187badbee8",
   "outputs": [
    {
     "name": "stdout",
     "output_type": "stream",
     "text": [
      "dict_values([10, 20, 30])\n"
     ]
    }
   ],
   "execution_count": 8
  },
  {
   "metadata": {},
   "cell_type": "markdown",
   "source": "* #### Muestra las claves del diccionario.",
   "id": "c8604c80b0cbc36e"
  },
  {
   "metadata": {
    "ExecuteTime": {
     "end_time": "2025-02-18T09:20:15.186532Z",
     "start_time": "2025-02-18T09:20:15.179158Z"
    }
   },
   "cell_type": "code",
   "source": "print(dict_llaves.keys())",
   "id": "295da9b864b868ac",
   "outputs": [
    {
     "name": "stdout",
     "output_type": "stream",
     "text": [
      "dict_keys(['coches', 'motocicleta', 'camión'])\n"
     ]
    }
   ],
   "execution_count": 10
  },
  {
   "metadata": {},
   "cell_type": "markdown",
   "source": "* #### Muestra el valor de coche.",
   "id": "efe94086c59baad7"
  },
  {
   "metadata": {
    "ExecuteTime": {
     "end_time": "2025-02-18T09:20:31.778106Z",
     "start_time": "2025-02-18T09:20:31.770877Z"
    }
   },
   "cell_type": "code",
   "source": "print(dict_llaves['coches'])",
   "id": "a627c6b070033918",
   "outputs": [
    {
     "name": "stdout",
     "output_type": "stream",
     "text": [
      "10\n"
     ]
    }
   ],
   "execution_count": 11
  },
  {
   "metadata": {},
   "cell_type": "markdown",
   "source": "* #### Añade al diccionario `avión` con valor `100`.",
   "id": "cc294db5d1c0a124"
  },
  {
   "metadata": {
    "ExecuteTime": {
     "end_time": "2025-02-18T09:21:19.086004Z",
     "start_time": "2025-02-18T09:21:19.072230Z"
    }
   },
   "cell_type": "code",
   "source": "dict_llaves['avión'] = 100",
   "id": "47e2c02d15918324",
   "outputs": [],
   "execution_count": 12
  },
  {
   "metadata": {},
   "cell_type": "markdown",
   "source": "* #### Muestra los elementos del diccionario.",
   "id": "7e37e3e6f9499344"
  },
  {
   "metadata": {
    "ExecuteTime": {
     "end_time": "2025-02-18T09:21:34.192165Z",
     "start_time": "2025-02-18T09:21:34.183326Z"
    }
   },
   "cell_type": "code",
   "source": "print(dict_llaves)",
   "id": "c340bdf99fe9cbcd",
   "outputs": [
    {
     "name": "stdout",
     "output_type": "stream",
     "text": [
      "{'coches': 10, 'motocicleta': 20, 'camión': 30, 'avión': 100}\n"
     ]
    }
   ],
   "execution_count": 13
  }
 ],
 "metadata": {
  "kernelspec": {
   "display_name": "Python 3",
   "language": "python",
   "name": "python3"
  },
  "language_info": {
   "codemirror_mode": {
    "name": "ipython",
    "version": 2
   },
   "file_extension": ".py",
   "mimetype": "text/x-python",
   "name": "python",
   "nbconvert_exporter": "python",
   "pygments_lexer": "ipython2",
   "version": "2.7.6"
  }
 },
 "nbformat": 4,
 "nbformat_minor": 5
}
