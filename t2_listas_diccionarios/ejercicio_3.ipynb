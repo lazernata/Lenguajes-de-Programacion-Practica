{
 "cells": [
  {
   "metadata": {},
   "cell_type": "markdown",
   "source": "# Ejercicio 3",
   "id": "fc9c58059312922"
  },
  {
   "metadata": {},
   "cell_type": "markdown",
   "source": [
    "Para realizar este ejercicio tienes un diccionario con las claves: coche, motocicleta, camión\n",
    "y los valores: 10, 20 y 30 respectivamente. "
   ],
   "id": "ecc485a215dc0da6"
  },
  {
   "cell_type": "code",
   "execution_count": null,
   "id": "initial_id",
   "metadata": {
    "collapsed": true
   },
   "outputs": [],
   "source": [
    ""
   ]
  },
  {
   "metadata": {},
   "cell_type": "markdown",
   "source": "* Define el diccionario usando dict().",
   "id": "e1919b612b255126"
  },
  {
   "metadata": {},
   "cell_type": "code",
   "outputs": [],
   "execution_count": null,
   "source": "",
   "id": "39a3d5d246876cf7"
  },
  {
   "metadata": {},
   "cell_type": "markdown",
   "source": "* Define el diccionario usando { }.",
   "id": "8aba205b49160da8"
  },
  {
   "metadata": {},
   "cell_type": "code",
   "outputs": [],
   "execution_count": null,
   "source": "",
   "id": "c555e15eddf9c8fb"
  },
  {
   "metadata": {},
   "cell_type": "markdown",
   "source": "* Define el diccionario usando zip().",
   "id": "ddc4d35df982656e"
  },
  {
   "metadata": {},
   "cell_type": "code",
   "outputs": [],
   "execution_count": null,
   "source": "",
   "id": "ab986027be255c91"
  },
  {
   "metadata": {},
   "cell_type": "markdown",
   "source": "* Muestra los valores del diccionario.",
   "id": "5661c1345afa3263"
  },
  {
   "metadata": {},
   "cell_type": "code",
   "outputs": [],
   "execution_count": null,
   "source": "",
   "id": "80b51b187badbee8"
  },
  {
   "metadata": {},
   "cell_type": "markdown",
   "source": "* Muestra las claves del diccionario.",
   "id": "c8604c80b0cbc36e"
  },
  {
   "metadata": {},
   "cell_type": "code",
   "outputs": [],
   "execution_count": null,
   "source": "",
   "id": "295da9b864b868ac"
  },
  {
   "metadata": {},
   "cell_type": "markdown",
   "source": "* Muestra el valor de coche.",
   "id": "efe94086c59baad7"
  },
  {
   "metadata": {},
   "cell_type": "code",
   "outputs": [],
   "execution_count": null,
   "source": "",
   "id": "a627c6b070033918"
  },
  {
   "metadata": {},
   "cell_type": "markdown",
   "source": "* Añade al diccionario avión con valor 100.",
   "id": "cc294db5d1c0a124"
  },
  {
   "metadata": {},
   "cell_type": "code",
   "outputs": [],
   "execution_count": null,
   "source": "",
   "id": "47e2c02d15918324"
  },
  {
   "metadata": {},
   "cell_type": "markdown",
   "source": "* Muestra los elementos del diccionario.",
   "id": "7e37e3e6f9499344"
  },
  {
   "metadata": {},
   "cell_type": "code",
   "outputs": [],
   "execution_count": null,
   "source": "",
   "id": "c340bdf99fe9cbcd"
  }
 ],
 "metadata": {
  "kernelspec": {
   "display_name": "Python 3",
   "language": "python",
   "name": "python3"
  },
  "language_info": {
   "codemirror_mode": {
    "name": "ipython",
    "version": 2
   },
   "file_extension": ".py",
   "mimetype": "text/x-python",
   "name": "python",
   "nbconvert_exporter": "python",
   "pygments_lexer": "ipython2",
   "version": "2.7.6"
  }
 },
 "nbformat": 4,
 "nbformat_minor": 5
}
